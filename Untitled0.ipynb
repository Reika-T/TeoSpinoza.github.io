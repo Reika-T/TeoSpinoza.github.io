{
  "nbformat": 4,
  "nbformat_minor": 0,
  "metadata": {
    "colab": {
      "name": "Untitled0.ipynb",
      "provenance": [],
      "authorship_tag": "ABX9TyM9RyTEluLOqSucP03uL+Kk",
      "include_colab_link": true
    },
    "kernelspec": {
      "name": "python3",
      "display_name": "Python 3"
    },
    "language_info": {
      "name": "python"
    }
  },
  "cells": [
    {
      "cell_type": "markdown",
      "metadata": {
        "id": "view-in-github",
        "colab_type": "text"
      },
      "source": [
        "<a href=\"https://colab.research.google.com/github/Reika-T/github.io/blob/master/Untitled0.ipynb\" target=\"_parent\"><img src=\"https://colab.research.google.com/assets/colab-badge.svg\" alt=\"Open In Colab\"/></a>"
      ]
    },
    {
      "cell_type": "code",
      "metadata": {
        "colab": {
          "base_uri": "https://localhost:8080/"
        },
        "id": "LE8q9n658O57",
        "outputId": "70b52e7a-3e6d-467b-8fa2-1cc297c951d8"
      },
      "source": [
        "S=[3,5,8,2,0,6]\n",
        "for k in range (5,-1,-1):\n",
        "    print(S[k])"
      ],
      "execution_count": 2,
      "outputs": [
        {
          "output_type": "stream",
          "name": "stdout",
          "text": [
            "6\n",
            "0\n",
            "2\n",
            "8\n",
            "5\n",
            "3\n"
          ]
        }
      ]
    },
    {
      "cell_type": "code",
      "metadata": {
        "colab": {
          "base_uri": "https://localhost:8080/"
        },
        "id": "m7vSsLyp91n0",
        "outputId": "603452f9-baef-4a6f-8022-9dc9f0aa0fef"
      },
      "source": [
        "R=[4,8,3,0,9,7]\n",
        "for k in range (2,-1,-1):\n",
        "  print(R[k])\n",
        "for k in range (5,2,-1):\n",
        "  print(R[k])  "
      ],
      "execution_count": 14,
      "outputs": [
        {
          "output_type": "stream",
          "name": "stdout",
          "text": [
            "3\n",
            "8\n",
            "4\n",
            "7\n",
            "9\n",
            "0\n"
          ]
        }
      ]
    },
    {
      "cell_type": "code",
      "metadata": {
        "colab": {
          "base_uri": "https://localhost:8080/"
        },
        "id": "tQrdxbSwATgI",
        "outputId": "5853a86b-8d10-4e5b-d2da-2cb30914a8d7"
      },
      "source": [
        "Y=[7,4,3,0,2]\n",
        "for k in range (0,2,1):\n",
        "    print (Y[k])\n",
        "for k in range (4,1,-1):\n",
        "    print (Y[k]) "
      ],
      "execution_count": 25,
      "outputs": [
        {
          "output_type": "stream",
          "name": "stdout",
          "text": [
            "7\n",
            "4\n",
            "2\n",
            "0\n",
            "3\n"
          ]
        }
      ]
    },
    {
      "cell_type": "code",
      "metadata": {
        "colab": {
          "base_uri": "https://localhost:8080/"
        },
        "id": "4wm03LciBetn",
        "outputId": "3f2a5fd8-17b4-43d0-ea38-70b331a5f286"
      },
      "source": [
        "U=[6,3,8,2,1,5]\n",
        "for k in range (3,6,1):\n",
        "    print (U[k])\n",
        "for k in range (2,-1,-1):\n",
        "    print (U[k])"
      ],
      "execution_count": 27,
      "outputs": [
        {
          "output_type": "stream",
          "name": "stdout",
          "text": [
            "2\n",
            "1\n",
            "5\n",
            "8\n",
            "3\n",
            "6\n"
          ]
        }
      ]
    },
    {
      "cell_type": "code",
      "metadata": {
        "colab": {
          "base_uri": "https://localhost:8080/"
        },
        "id": "yx0l4gCYCEoC",
        "outputId": "a6cfa279-20da-480d-89de-5129b950249e"
      },
      "source": [
        "I=[1,6,9,3,4,8]\n",
        "for k in range(5,2,-1):\n",
        "   print (I[k])\n",
        "for k in range(0,3,+1):\n",
        "   print (I[k])"
      ],
      "execution_count": 33,
      "outputs": [
        {
          "output_type": "stream",
          "name": "stdout",
          "text": [
            "8\n",
            "4\n",
            "3\n",
            "1\n",
            "6\n",
            "9\n"
          ]
        }
      ]
    },
    {
      "cell_type": "code",
      "metadata": {
        "colab": {
          "base_uri": "https://localhost:8080/"
        },
        "id": "SBHL6YraGTwI",
        "outputId": "0cc02702-a95d-4e0a-80e8-6db6c54d759d"
      },
      "source": [
        "A=[x for x in range (2,6)]\n",
        "print(A)"
      ],
      "execution_count": 34,
      "outputs": [
        {
          "output_type": "stream",
          "name": "stdout",
          "text": [
            "[2, 3, 4, 5]\n"
          ]
        }
      ]
    },
    {
      "cell_type": "code",
      "metadata": {
        "colab": {
          "base_uri": "https://localhost:8080/"
        },
        "id": "DsshrsLh_BSG",
        "outputId": "386f9008-9f0b-49e9-f9d0-7c47012976d5"
      },
      "source": [
        "T=[5,7,4,0,2,3]\n",
        "for k in range (2,-1,-1):\n",
        "  print (T[k])\n",
        "for k in range (3,6,+1):\n",
        "  print (T[k])"
      ],
      "execution_count": 12,
      "outputs": [
        {
          "output_type": "stream",
          "name": "stdout",
          "text": [
            "4\n",
            "7\n",
            "5\n",
            "0\n",
            "2\n",
            "3\n"
          ]
        }
      ]
    }
  ]
}